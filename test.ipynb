{
 "cells": [
  {
   "cell_type": "code",
   "execution_count": 7,
   "metadata": {},
   "outputs": [
    {
     "name": "stdout",
     "output_type": "stream",
     "text": [
      "Random State: 10\n",
      "Best parameters found:  OrderedDict([('colsample_bytree', 0.99760412237904), ('gamma', 0), ('learning_rate', 0.46202536984854076), ('max_depth', 8), ('min_child_weight', 0), ('n_estimators', 180), ('subsample', 0.1918740153839363)])\n",
      "Validation accuracy:  0.9393500464252554\n",
      "Random State: 20\n",
      "Best parameters found:  OrderedDict([('colsample_bytree', 0.5884356749538755), ('gamma', 0), ('learning_rate', 0.23064711844229588), ('max_depth', 7), ('min_child_weight', 0), ('n_estimators', 199), ('subsample', 0.1477536654393508)])\n",
      "Validation accuracy:  0.9415831012070566\n",
      "Random State: 30\n",
      "Best parameters found:  OrderedDict([('colsample_bytree', 0.24467840441427438), ('gamma', 0), ('learning_rate', 0.0847694565818367), ('max_depth', 4), ('min_child_weight', 0), ('n_estimators', 182), ('subsample', 0.30763676229550285)])\n",
      "Validation accuracy:  0.9432559579077685\n",
      "Random State: 666\n",
      "Best parameters found:  OrderedDict([('colsample_bytree', 0.242977935448999), ('gamma', 0), ('learning_rate', 0.11198613144480465), ('max_depth', 9), ('min_child_weight', 2), ('n_estimators', 121), ('subsample', 0.49225696816149966)])\n",
      "Validation accuracy:  0.9393515939337667\n",
      "Random State: 12345\n",
      "Best parameters found:  OrderedDict([('colsample_bytree', 0.14380068882969008), ('gamma', 0), ('learning_rate', 0.041526726622079006), ('max_depth', 5), ('min_child_weight', 2), ('n_estimators', 154), ('subsample', 0.860567579044222)])\n",
      "Validation accuracy:  0.9376880222841226\n",
      "Random State: 42\n",
      "Best parameters found:  OrderedDict([('colsample_bytree', 0.30052086155940066), ('gamma', 0), ('learning_rate', 0.01012093484332253), ('max_depth', 10), ('min_child_weight', 0), ('n_estimators', 157), ('subsample', 0.8789555813937215)])\n",
      "Validation accuracy:  0.9415846487155679\n"
     ]
    }
   ],
   "source": [
    "import xgboost as xgb\n",
    "from sklearn.datasets import load_digits\n",
    "from sklearn.model_selection import train_test_split\n",
    "from skopt import BayesSearchCV\n",
    "from sklearn.model_selection import StratifiedKFold\n",
    "\n",
    "\n",
    "# 加载数据集\n",
    "data = load_digits()\n",
    "X, y = data.data, data.target\n",
    "\n",
    "# 划分训练集和测试集\n",
    "X_train, X_test, y_train, y_test = train_test_split(X, y, test_size=0.2, random_state=42)\n",
    "\n",
    "# 定义XGBoost分类器\n",
    "xgb_model = xgb.XGBClassifier()\n",
    "\n",
    "# 定义参数搜索空间\n",
    "param_space = {\n",
    "    'learning_rate': (0.01, 1.0, 'log-uniform'),\n",
    "    'max_depth': (1, 10),\n",
    "    'subsample': (0.1, 1.0, 'uniform'),\n",
    "    'colsample_bytree': (0.1, 1.0, 'uniform'),\n",
    "    'gamma': (0, 5, 'uniform'),\n",
    "    'min_child_weight': (0, 5),\n",
    "    'n_estimators': (50, 200),\n",
    "}\n",
    "\n",
    "# 设置不同的 random state 值\n",
    "random_states = [10, 20, 30,666,12345,42]\n",
    "\n",
    "for random_state in random_states:\n",
    "    print(f\"Random State: {random_state}\")\n",
    "    opt = BayesSearchCV(\n",
    "    xgb_model,\n",
    "    param_space,\n",
    "    n_iter=50,  # 总迭代次数\n",
    "    scoring='accuracy',\n",
    "    n_jobs=-1,\n",
    "    random_state=random_state,\n",
    "    optimizer_kwargs={'base_estimator': 'RF'},\n",
    "    )\n",
    "\n",
    "    # 使用贝叶斯优化器进行超参数优化\n",
    "    opt.fit(X, y)\n",
    "\n",
    "    # 输出最佳超参数配置和对应的验证集得分\n",
    "    print(\"Best parameters found: \", opt.best_params_)\n",
    "    print(\"Validation accuracy: \", opt.best_score_)\n"
   ]
  },
  {
   "cell_type": "code",
   "execution_count": 3,
   "metadata": {},
   "outputs": [
    {
     "name": "stdout",
     "output_type": "stream",
     "text": [
      "1\n",
      "2\n",
      "3\n",
      "4\n"
     ]
    },
    {
     "ename": "IndexError",
     "evalue": "list index out of range",
     "output_type": "error",
     "traceback": [
      "\u001b[1;31m---------------------------------------------------------------------------\u001b[0m",
      "\u001b[1;31mIndexError\u001b[0m                                Traceback (most recent call last)",
      "\u001b[1;32mc:\\Users\\user\\Desktop\\doe-final\\test.ipynb 单元格 2\u001b[0m in \u001b[0;36m<cell line: 2>\u001b[1;34m()\u001b[0m\n\u001b[0;32m      <a href='vscode-notebook-cell:/c%3A/Users/user/Desktop/doe-final/test.ipynb#W1sZmlsZQ%3D%3D?line=0'>1</a>\u001b[0m a \u001b[39m=\u001b[39m [\u001b[39m1\u001b[39m,\u001b[39m2\u001b[39m,\u001b[39m3\u001b[39m,\u001b[39m4\u001b[39m]\n\u001b[0;32m      <a href='vscode-notebook-cell:/c%3A/Users/user/Desktop/doe-final/test.ipynb#W1sZmlsZQ%3D%3D?line=1'>2</a>\u001b[0m \u001b[39mfor\u001b[39;00m i \u001b[39min\u001b[39;00m \u001b[39mrange\u001b[39m(\u001b[39m6\u001b[39m):\n\u001b[1;32m----> <a href='vscode-notebook-cell:/c%3A/Users/user/Desktop/doe-final/test.ipynb#W1sZmlsZQ%3D%3D?line=2'>3</a>\u001b[0m     \u001b[39mprint\u001b[39m(a[i])\n",
      "\u001b[1;31mIndexError\u001b[0m: list index out of range"
     ]
    }
   ],
   "source": [
    "a = [1,2,3,4]\n",
    "for i in range(6):\n",
    "    print(a[i])"
   ]
  },
  {
   "cell_type": "code",
   "execution_count": 2,
   "metadata": {},
   "outputs": [
    {
     "name": "stdout",
     "output_type": "stream",
     "text": [
      "110\n"
     ]
    }
   ],
   "source": [
    "sum = 0\n",
    "for i in range(1,6):\n",
    "    sum = sum+2*i*i\n",
    "print(sum)"
   ]
  }
 ],
 "metadata": {
  "kernelspec": {
   "display_name": "base",
   "language": "python",
   "name": "python3"
  },
  "language_info": {
   "codemirror_mode": {
    "name": "ipython",
    "version": 3
   },
   "file_extension": ".py",
   "mimetype": "text/x-python",
   "name": "python",
   "nbconvert_exporter": "python",
   "pygments_lexer": "ipython3",
   "version": "3.9.12"
  },
  "orig_nbformat": 4
 },
 "nbformat": 4,
 "nbformat_minor": 2
}
